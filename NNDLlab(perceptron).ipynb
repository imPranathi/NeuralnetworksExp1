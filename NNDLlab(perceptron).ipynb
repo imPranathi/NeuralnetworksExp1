{
  "nbformat": 4,
  "nbformat_minor": 0,
  "metadata": {
    "colab": {
      "provenance": []
    },
    "kernelspec": {
      "name": "python3",
      "display_name": "Python 3"
    },
    "language_info": {
      "name": "python"
    }
  },
  "cells": [
    {
      "cell_type": "markdown",
      "source": [
        "## **PERCEPTRON OR GATE**\n"
      ],
      "metadata": {
        "id": "4n7_2l2YkHZv"
      }
    },
    {
      "cell_type": "code",
      "execution_count": null,
      "metadata": {
        "id": "-zW-oA9_iUeg"
      },
      "outputs": [],
      "source": [
        "import numpy as np\n"
      ]
    },
    {
      "cell_type": "code",
      "source": [
        "\n",
        "X = np.array([[0,0],[0,1],[1,0],[1,1]])\n",
        "print(\"Input is given below\")\n",
        "print(X)\n",
        "y = np.array([0,1,1,1])\n",
        "\n",
        "print(\"Expected output is given below\")\n",
        "print(y)"
      ],
      "metadata": {
        "colab": {
          "base_uri": "https://localhost:8080/"
        },
        "id": "4zmtlwnCjTCT",
        "outputId": "ef86bae4-66c7-4cb1-9efa-5e7e5b8742c7"
      },
      "execution_count": null,
      "outputs": [
        {
          "output_type": "stream",
          "name": "stdout",
          "text": [
            "Input is given below\n",
            "[[0 0]\n",
            " [0 1]\n",
            " [1 0]\n",
            " [1 1]]\n",
            "Expected output is given below\n",
            "[0 1 1 1]\n"
          ]
        }
      ]
    },
    {
      "cell_type": "code",
      "source": [
        "w = np.array([1,1])"
      ],
      "metadata": {
        "id": "vE4oiemrhd03"
      },
      "execution_count": null,
      "outputs": []
    },
    {
      "cell_type": "code",
      "source": [
        "theta = 1"
      ],
      "metadata": {
        "id": "5m85WwQEkst8"
      },
      "execution_count": null,
      "outputs": []
    },
    {
      "cell_type": "code",
      "source": [
        "y_pred=[]"
      ],
      "metadata": {
        "id": "mzxXJQDAk0IE"
      },
      "execution_count": null,
      "outputs": []
    },
    {
      "cell_type": "code",
      "source": [
        "def Heaviside(net):\n",
        "  if net >=theta:\n",
        "    return 1\n",
        "  else:\n",
        "    return 0\n"
      ],
      "metadata": {
        "id": "-CNnfbHsk-ks"
      },
      "execution_count": null,
      "outputs": []
    },
    {
      "cell_type": "code",
      "source": [
        "for  i in range(X.shape[0]):\n",
        "  x=X[i]\n",
        "  wtsum = np.dot(x,w)\n",
        "  pred = Heaviside(wtsum)\n",
        "  print(x[0], \"OR\", x[1],\"->\", pred)\n",
        "  y_pred.append(pred)\n",
        "\n",
        "\n"
      ],
      "metadata": {
        "colab": {
          "base_uri": "https://localhost:8080/"
        },
        "id": "CVU6iJCqlNvN",
        "outputId": "602297d6-2b9d-4c2f-aeae-3cad726e31f2"
      },
      "execution_count": null,
      "outputs": [
        {
          "output_type": "stream",
          "name": "stdout",
          "text": [
            "0 OR 0 -> 0\n",
            "0 OR 1 -> 1\n",
            "1 OR 0 -> 1\n",
            "1 OR 1 -> 1\n"
          ]
        }
      ]
    },
    {
      "cell_type": "code",
      "source": [
        "print(y_pred)"
      ],
      "metadata": {
        "colab": {
          "base_uri": "https://localhost:8080/"
        },
        "id": "-C65Xo4PmXX9",
        "outputId": "256e23f3-cf05-49fc-d8eb-2da85f8c4acf"
      },
      "execution_count": null,
      "outputs": [
        {
          "output_type": "stream",
          "name": "stdout",
          "text": [
            "[0, 1, 1, 1]\n"
          ]
        }
      ]
    },
    {
      "cell_type": "code",
      "source": [
        "\n",
        "import matplotlib.pyplot as plt\n",
        "slope =-w[0]/w[1]\n",
        "intercept = (theta)/w[1]\n",
        "x_plane = np.linspace(-2,2,10)\n",
        "y_plane = slope * x_plane + intercept\n",
        "plt.scatter(X[:,0], X[:,1], c=-y)\n",
        "plt.plot(x_plane-0.1, y_plane-0.1, '-')\n",
        "plt.xlim([-0.2, 1.2])\n",
        "plt.ylim([-0.2, 1.2])\n",
        "plt.show()\n",
        "\n"
      ],
      "metadata": {
        "colab": {
          "base_uri": "https://localhost:8080/",
          "height": 435
        },
        "id": "ySUlLRYPoGjF",
        "outputId": "0b833baa-be8b-475b-a5fe-6e2778bb096a"
      },
      "execution_count": null,
      "outputs": [
        {
          "output_type": "display_data",
          "data": {
            "text/plain": [
              "<Figure size 640x480 with 1 Axes>"
            ],
            "image/png": "[encoded data removed]"
          },
          "metadata": {}
        }
      ]
    },
    {
      "cell_type": "markdown",
      "source": [
        "### **PERCEPTRON AND GATE**\n"
      ],
      "metadata": {
        "id": "ewoWLy8xkmu0"
      }
    },
    {
      "cell_type": "code",
      "source": [
        "import numpy as np\n"
      ],
      "metadata": {
        "id": "BK0xEufek3IO"
      },
      "execution_count": null,
      "outputs": []
    },
    {
      "cell_type": "code",
      "source": [
        "X = np.array([[0,0],[0,1],[1,0],[1,1]])\n",
        "print(\"Input is given below\")\n",
        "print(X)\n",
        "y = np.array([0,0,0,1])\n",
        "print(\"Expected output is given below\")\n",
        "print(y)\n"
      ],
      "metadata": {
        "colab": {
          "base_uri": "https://localhost:8080/"
        },
        "id": "aeitIBs8k8xX",
        "outputId": "173512ec-d25b-4750-de9c-2cf93b902b50"
      },
      "execution_count": null,
      "outputs": [
        {
          "output_type": "stream",
          "name": "stdout",
          "text": [
            "Input is given below\n",
            "[[0 0]\n",
            " [0 1]\n",
            " [1 0]\n",
            " [1 1]]\n",
            "Expected output is given below\n",
            "[0 0 0 1]\n"
          ]
        }
      ]
    },
    {
      "cell_type": "code",
      "source": [
        "w = np.array([1,1])"
      ],
      "metadata": {
        "id": "LS1lm87rlKqs"
      },
      "execution_count": null,
      "outputs": []
    },
    {
      "cell_type": "code",
      "source": [
        "theta=1.5"
      ],
      "metadata": {
        "id": "6Fj_S4QClQ71"
      },
      "execution_count": null,
      "outputs": []
    },
    {
      "cell_type": "code",
      "source": [
        "y_pred = []"
      ],
      "metadata": {
        "id": "RKNNahTKlQp9"
      },
      "execution_count": null,
      "outputs": []
    },
    {
      "cell_type": "code",
      "source": [
        "def Heaviside (net):\n",
        "  if net >= theta:\n",
        "     return 1\n",
        "  else:\n",
        "     return 0\n"
      ],
      "metadata": {
        "id": "NLRvRI-glWtt"
      },
      "execution_count": null,
      "outputs": []
    },
    {
      "cell_type": "code",
      "source": [
        "for i in range(X.shape[0]):\n",
        "  x = X[i]\n",
        "  print(\"x \",x)\n",
        "  weighted_sum= np.dot(x,w)\n",
        "  print(\"Weighted sum \",weighted_sum)\n",
        "  pred = Heaviside(weighted_sum)\n",
        "  print(x[0], \" AND \",x[1],\" -> \",pred)\n",
        "  y_pred.append(pred)"
      ],
      "metadata": {
        "colab": {
          "base_uri": "https://localhost:8080/"
        },
        "id": "-Xfpwwvplk81",
        "outputId": "255812ed-d4e7-4bc2-d8f4-58394bc487e1"
      },
      "execution_count": null,
      "outputs": [
        {
          "output_type": "stream",
          "name": "stdout",
          "text": [
            "x  [0 0]\n",
            "Weighted sum  0\n",
            "0  AND  0  ->  0\n",
            "x  [0 1]\n",
            "Weighted sum  1\n",
            "0  AND  1  ->  0\n",
            "x  [1 0]\n",
            "Weighted sum  1\n",
            "1  AND  0  ->  0\n",
            "x  [1 1]\n",
            "Weighted sum  2\n",
            "1  AND  1  ->  1\n"
          ]
        }
      ]
    },
    {
      "cell_type": "code",
      "source": [
        "X.shape"
      ],
      "metadata": {
        "colab": {
          "base_uri": "https://localhost:8080/"
        },
        "id": "Sn8vyDi-l8ml",
        "outputId": "5c9147ff-c80b-4b2f-97d5-201cfe2a5360"
      },
      "execution_count": null,
      "outputs": [
        {
          "output_type": "execute_result",
          "data": {
            "text/plain": [
              "(4, 2)"
            ]
          },
          "metadata": {},
          "execution_count": 30
        }
      ]
    },
    {
      "cell_type": "code",
      "source": [
        "print(y_pred)\n"
      ],
      "metadata": {
        "colab": {
          "base_uri": "https://localhost:8080/"
        },
        "id": "4ZeNl_uSl__F",
        "outputId": "1acf95c9-f98b-4e40-ccc3-834f5063ba85"
      },
      "execution_count": null,
      "outputs": [
        {
          "output_type": "stream",
          "name": "stdout",
          "text": [
            "[0, 0, 0, 1]\n"
          ]
        }
      ]
    },
    {
      "cell_type": "code",
      "source": [
        "import matplotlib.pyplot as plt\n",
        "slope = -w[0]/w[1]\n",
        "intercept = (theta)/w[1]\n",
        "x_plane = np.linspace(-2,2,10)\n",
        "y_plane = slope * x_plane + intercept\n",
        "plt.scatter(X[:,0], X[:,1], c=y)\n",
        "plt.plot(x_plane, y_plane,'-')\n",
        "plt.xlim([-0.2, 1.2])\n",
        "plt.ylim([-0.2, 1.2])\n",
        "plt.show()"
      ],
      "metadata": {
        "colab": {
          "base_uri": "https://localhost:8080/",
          "height": 435
        },
        "id": "FCrxHYyimFJA",
        "outputId": "6585ea07-971b-4f7d-8356-049b2b6a4a29"
      },
      "execution_count": null,
      "outputs": [
        {
          "output_type": "display_data",
          "data": {
            "text/plain": [
              "<Figure size 640x480 with 1 Axes>"
            ],
            "image/png": "[encoded data removed]"
          },
          "metadata": {}
        }
      ]
    }
  ]
}