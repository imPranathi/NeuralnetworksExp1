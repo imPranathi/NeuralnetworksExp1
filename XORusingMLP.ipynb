{
  "nbformat": 4,
  "nbformat_minor": 0,
  "metadata": {
    "colab": {
      "provenance": [],
      "authorship_tag": "ABX9TyPMPdMDSaHeKv6rBfpUp/MO",
      "include_colab_link": true
    },
    "kernelspec": {
      "name": "python3",
      "display_name": "Python 3"
    },
    "language_info": {
      "name": "python"
    }
  },
  "cells": [
    {
      "cell_type": "markdown",
      "metadata": {
        "id": "view-in-github",
        "colab_type": "text"
      },
      "source": [
        "<a href=\"https://colab.research.google.com/github/imPranathi/NeuralnetworksExp1/blob/main/XORusingMLP.ipynb\" target=\"_parent\"><img src=\"https://colab.research.google.com/assets/colab-badge.svg\" alt=\"Open In Colab\"/></a>"
      ]
    },
    {
      "cell_type": "markdown",
      "source": [
        "## **XOR** Function using MLP\n"
      ],
      "metadata": {
        "id": "ZZE9l9MSJHYK"
      }
    },
    {
      "cell_type": "code",
      "source": [
        "import numpy as np\n",
        "import matplotlib.pyplot as plt\n",
        "import sys\n"
      ],
      "metadata": {
        "id": "8MpQq2kOJNun"
      },
      "execution_count": 1,
      "outputs": []
    },
    {
      "cell_type": "code",
      "source": [
        "# The training data.\n",
        "X = np.array([\n",
        "[0, 0],\n",
        "[0, 1],\n",
        "[1, 0],\n",
        "[1, 1]\n",
        "])\n",
        "# The labels for the training data.\n",
        "y = np.array([\n",
        "[0],\n",
        "[1],\n",
        "[1],\n",
        "[0]\n",
        "])"
      ],
      "metadata": {
        "id": "jA3863Z_JZdh"
      },
      "execution_count": 2,
      "outputs": []
    },
    {
      "cell_type": "code",
      "source": [
        "W11 = np.asarray([1,1])\n",
        "W12 = np.asarray([1,1])\n",
        "W2 = np.asarray([-1,1])\n",
        "B1 = np.asarray([-1.5,-0.5])\n",
        "B2 = np.asarray([-0.5])"
      ],
      "metadata": {
        "id": "HRSOhgOMJZaJ"
      },
      "execution_count": 3,
      "outputs": []
    },
    {
      "cell_type": "code",
      "source": [
        "W11"
      ],
      "metadata": {
        "colab": {
          "base_uri": "https://localhost:8080/"
        },
        "id": "iEDfG4tBJfsb",
        "outputId": "9e79b4b0-f20a-4c24-e587-361369ce1d82"
      },
      "execution_count": 4,
      "outputs": [
        {
          "output_type": "execute_result",
          "data": {
            "text/plain": [
              "array([1, 1])"
            ]
          },
          "metadata": {},
          "execution_count": 4
        }
      ]
    },
    {
      "cell_type": "code",
      "source": [
        "W12"
      ],
      "metadata": {
        "colab": {
          "base_uri": "https://localhost:8080/"
        },
        "id": "Fdvdh8KEJfo-",
        "outputId": "397eae85-b135-4afb-9e45-3a28e0d1bf5a"
      },
      "execution_count": 5,
      "outputs": [
        {
          "output_type": "execute_result",
          "data": {
            "text/plain": [
              "array([1, 1])"
            ]
          },
          "metadata": {},
          "execution_count": 5
        }
      ]
    },
    {
      "cell_type": "code",
      "source": [
        "W2"
      ],
      "metadata": {
        "colab": {
          "base_uri": "https://localhost:8080/"
        },
        "id": "SjONdAToJZWy",
        "outputId": "f3ffca1a-957f-493a-b691-a1aed32d7d7a"
      },
      "execution_count": 6,
      "outputs": [
        {
          "output_type": "execute_result",
          "data": {
            "text/plain": [
              "array([-1,  1])"
            ]
          },
          "metadata": {},
          "execution_count": 6
        }
      ]
    },
    {
      "cell_type": "code",
      "source": [
        "B1"
      ],
      "metadata": {
        "colab": {
          "base_uri": "https://localhost:8080/"
        },
        "id": "SxXA767QJZSE",
        "outputId": "a5d6390b-5cd3-4437-8e14-c749aeeeedc1"
      },
      "execution_count": 7,
      "outputs": [
        {
          "output_type": "execute_result",
          "data": {
            "text/plain": [
              "array([-1.5, -0.5])"
            ]
          },
          "metadata": {},
          "execution_count": 7
        }
      ]
    },
    {
      "cell_type": "code",
      "source": [
        "B2"
      ],
      "metadata": {
        "colab": {
          "base_uri": "https://localhost:8080/"
        },
        "id": "3jjt1OqPJvdF",
        "outputId": "93e1d646-c302-4b22-a60f-518cebc52efe"
      },
      "execution_count": 8,
      "outputs": [
        {
          "output_type": "execute_result",
          "data": {
            "text/plain": [
              "array([-0.5])"
            ]
          },
          "metadata": {},
          "execution_count": 8
        }
      ]
    },
    {
      "cell_type": "code",
      "source": [
        "x=X[0]\n",
        "print(x)\n"
      ],
      "metadata": {
        "colab": {
          "base_uri": "https://localhost:8080/"
        },
        "id": "LXHNulYQJ3Af",
        "outputId": "9af82051-f132-4349-cd41-88728380cdb5"
      },
      "execution_count": 9,
      "outputs": [
        {
          "output_type": "stream",
          "name": "stdout",
          "text": [
            "[0 0]\n"
          ]
        }
      ]
    },
    {
      "cell_type": "code",
      "source": [
        "len(W11)"
      ],
      "metadata": {
        "colab": {
          "base_uri": "https://localhost:8080/"
        },
        "id": "NjckDrIoJ21w",
        "outputId": "f3a87df2-4430-45f9-f7c0-ec1387abacb1"
      },
      "execution_count": 10,
      "outputs": [
        {
          "output_type": "execute_result",
          "data": {
            "text/plain": [
              "2"
            ]
          },
          "metadata": {},
          "execution_count": 10
        }
      ]
    },
    {
      "cell_type": "code",
      "source": [
        "def summation(x,Wt1,Wt2,Bs):\n",
        "\n",
        "  sumh=[0,0]\n",
        "  for i in range(len(x)):\n",
        "    sumh[i]=(x[0]*Wt1[i]+x[1]*Wt2[i])+Bs[i]\n",
        "  return sumh"
      ],
      "metadata": {
        "id": "7H0IvErFJZOS"
      },
      "execution_count": 11,
      "outputs": []
    },
    {
      "cell_type": "code",
      "source": [
        "sumv=summation(x,W11,W12,B1)\n"
      ],
      "metadata": {
        "id": "-MfNPOiyKwtL"
      },
      "execution_count": 16,
      "outputs": []
    },
    {
      "cell_type": "code",
      "source": [
        "print(sumv)"
      ],
      "metadata": {
        "colab": {
          "base_uri": "https://localhost:8080/"
        },
        "id": "s7vYp3oLK1cB",
        "outputId": "13a57a5d-9be7-4a04-c6f5-b739b3601ff9"
      },
      "execution_count": 17,
      "outputs": [
        {
          "output_type": "stream",
          "name": "stdout",
          "text": [
            "[-1.5, -0.5]\n"
          ]
        }
      ]
    },
    {
      "cell_type": "code",
      "source": [
        "def Heaviside (net):\n",
        "\n",
        " if net >= 0:\n",
        "  return 1\n",
        " else:\n",
        "  return 0"
      ],
      "metadata": {
        "id": "7KUa--xRKJ1j"
      },
      "execution_count": 12,
      "outputs": []
    },
    {
      "cell_type": "code",
      "source": [
        "hidden=[0,0]\n",
        "for i in range(len(sumv)):\n",
        "    hidden[i]=Heaviside(sumv[i])"
      ],
      "metadata": {
        "id": "s8VceYkOKJyK"
      },
      "execution_count": 18,
      "outputs": []
    },
    {
      "cell_type": "code",
      "source": [
        "print(hidden)\n"
      ],
      "metadata": {
        "colab": {
          "base_uri": "https://localhost:8080/"
        },
        "id": "qevRgxBXKJuj",
        "outputId": "2bf85373-abc6-4961-b59d-f1e32214198f"
      },
      "execution_count": 19,
      "outputs": [
        {
          "output_type": "stream",
          "name": "stdout",
          "text": [
            "[0, 0]\n"
          ]
        }
      ]
    },
    {
      "cell_type": "code",
      "source": [
        "sumo=np.dot(hidden,W2)+B2[0]\n",
        "y_pred=Heaviside(sumo)\n"
      ],
      "metadata": {
        "id": "1doT2BsqLAGx"
      },
      "execution_count": 20,
      "outputs": []
    },
    {
      "cell_type": "code",
      "source": [
        "print(y_pred)\n",
        "\n"
      ],
      "metadata": {
        "colab": {
          "base_uri": "https://localhost:8080/"
        },
        "id": "dQAcG7E2LBaS",
        "outputId": "295037db-3a3f-49a0-8ae4-9fee525aa882"
      },
      "execution_count": 21,
      "outputs": [
        {
          "output_type": "stream",
          "name": "stdout",
          "text": [
            "0\n"
          ]
        }
      ]
    },
    {
      "cell_type": "code",
      "source": [
        "y_pred=[]\n",
        "for i in range(X.shape[0]):\n",
        "\n",
        "  x=X[i]\n",
        "  sumv=summation(x,W11,W12,B1)\n",
        "  hidden=[0,0]\n",
        "  for i in range(len(sumv)):\n",
        "     hidden[i]=Heaviside(sumv[i])\n",
        "  sumo=np.dot(hidden,W2)+B2[0]\n",
        "  y_pred.append(Heaviside(sumo))\n"
      ],
      "metadata": {
        "id": "KKWcRHuNLA-y"
      },
      "execution_count": 26,
      "outputs": []
    },
    {
      "cell_type": "code",
      "source": [
        "y_pred\n"
      ],
      "metadata": {
        "colab": {
          "base_uri": "https://localhost:8080/"
        },
        "id": "i84SGiBYLkCk",
        "outputId": "2e802064-66bc-4eed-eb88-ebc745d798e8"
      },
      "execution_count": 27,
      "outputs": [
        {
          "output_type": "execute_result",
          "data": {
            "text/plain": [
              "[0, 1, 1, 0]"
            ]
          },
          "metadata": {},
          "execution_count": 27
        }
      ]
    }
  ]
}